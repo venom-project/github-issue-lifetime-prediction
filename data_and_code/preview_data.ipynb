{
 "cells": [
  {
   "cell_type": "code",
   "execution_count": 1,
   "source": [
    "%matplotlib inline\n",
    "import numpy as np\n",
    "import pandas as pd\n",
    "\n",
    "from scipy import stats\n",
    "\n",
    "import matplotlib.pyplot as plt\n",
    "import datetime\n",
    "import seaborn as sns\n",
    "\n",
    "import common_data as core_services"
   ],
   "outputs": [],
   "metadata": {}
  },
  {
   "cell_type": "code",
   "execution_count": 2,
   "source": [
    "np.random.seed(10)\n",
    "\n",
    "FEATURES_WHEN = 0\n",
    "CLOSED_AT =9\n",
    "\n",
    "experiment = None\n",
    "\n",
    "BASEBATH= \"./issue_data/\"\n",
    "DATAPATH1 = BASEBATH+\"\"\n",
    "MONGOPATH = BASEBATH+\"text/\"\n",
    "\n",
    "FIGPATHATH1 = \"figures/\"\n",
    "\n",
    "issues_orig = pd.read_csv(DATAPATH1 + \"fixed_issues.csv\")\n",
    "repos = pd.read_csv(DATAPATH1 + \"fixed_repos.csv\")\n",
    "\n",
    "issues_orig[\"created_at\"] = pd.to_datetime(issues_orig[\"created_at\"])\n",
    "issues_orig[\"closed_at\"] = pd.to_datetime(issues_orig[\"closed_at\"])\n",
    "\n",
    "issue_ds = pd.read_csv(DATAPATH1 + \"feature_tables_days_{0}.csv\".format(FEATURES_WHEN), index_col=0)"
   ],
   "outputs": [],
   "metadata": {}
  },
  {
   "cell_type": "markdown",
   "source": [
    "`issue_ds` contains the dynamic features calculated at FEATURES_WHEN\n",
    "\n",
    "rid denotes the repo_id and can be linked with repos.repo_id (or repos.rid)"
   ],
   "metadata": {}
  },
  {
   "cell_type": "code",
   "execution_count": 3,
   "source": [
    "issue_ds.head(1)"
   ],
   "outputs": [
    {
     "output_type": "execute_result",
     "data": {
      "text/html": [
       "<div>\n",
       "<style scoped>\n",
       "    .dataframe tbody tr th:only-of-type {\n",
       "        vertical-align: middle;\n",
       "    }\n",
       "\n",
       "    .dataframe tbody tr th {\n",
       "        vertical-align: top;\n",
       "    }\n",
       "\n",
       "    .dataframe thead th {\n",
       "        text-align: right;\n",
       "    }\n",
       "</style>\n",
       "<table border=\"1\" class=\"dataframe\">\n",
       "  <thead>\n",
       "    <tr style=\"text-align: right;\">\n",
       "      <th></th>\n",
       "      <th>issue_id</th>\n",
       "      <th>rid</th>\n",
       "      <th>relative_month</th>\n",
       "      <th>elapsed</th>\n",
       "      <th>issticky</th>\n",
       "      <th>live_at_dynamic</th>\n",
       "      <th>created_before3m</th>\n",
       "      <th>closed_before3m</th>\n",
       "      <th>commit_before3m</th>\n",
       "      <th>commit_before3m_nunique</th>\n",
       "      <th>...</th>\n",
       "      <th>commit_before_project3m</th>\n",
       "      <th>commit_before_project3m_nunique</th>\n",
       "      <th>created_before_project2w_sliding</th>\n",
       "      <th>closed_before_project2w_sliding</th>\n",
       "      <th>commit_before_project2w_sliding</th>\n",
       "      <th>commit_before_project2w_nunique_sliding</th>\n",
       "      <th>body_len</th>\n",
       "      <th>title_len</th>\n",
       "      <th>comment_len_mean</th>\n",
       "      <th>comment_len_sum</th>\n",
       "    </tr>\n",
       "  </thead>\n",
       "  <tbody>\n",
       "    <tr>\n",
       "      <th>0</th>\n",
       "      <td>6837448</td>\n",
       "      <td>7450539</td>\n",
       "      <td>14</td>\n",
       "      <td>-1.0</td>\n",
       "      <td>1</td>\n",
       "      <td>1</td>\n",
       "      <td>14.0</td>\n",
       "      <td>0.0</td>\n",
       "      <td>78.0</td>\n",
       "      <td>1.0</td>\n",
       "      <td>...</td>\n",
       "      <td>304.0</td>\n",
       "      <td>1.0</td>\n",
       "      <td>17.0</td>\n",
       "      <td>0.0</td>\n",
       "      <td>91.0</td>\n",
       "      <td>1.0</td>\n",
       "      <td>0.0</td>\n",
       "      <td>0.0</td>\n",
       "      <td>0.0</td>\n",
       "      <td>0.0</td>\n",
       "    </tr>\n",
       "  </tbody>\n",
       "</table>\n",
       "<p>1 rows × 50 columns</p>\n",
       "</div>"
      ],
      "text/plain": [
       "   issue_id      rid  relative_month  elapsed  issticky  live_at_dynamic  \\\n",
       "0   6837448  7450539              14     -1.0         1                1   \n",
       "\n",
       "   created_before3m  closed_before3m  commit_before3m  \\\n",
       "0              14.0              0.0             78.0   \n",
       "\n",
       "   commit_before3m_nunique  ...  commit_before_project3m  \\\n",
       "0                      1.0  ...                    304.0   \n",
       "\n",
       "   commit_before_project3m_nunique  created_before_project2w_sliding  \\\n",
       "0                              1.0                              17.0   \n",
       "\n",
       "   closed_before_project2w_sliding  commit_before_project2w_sliding  \\\n",
       "0                              0.0                             91.0   \n",
       "\n",
       "   commit_before_project2w_nunique_sliding  body_len  title_len  \\\n",
       "0                                      1.0       0.0        0.0   \n",
       "\n",
       "   comment_len_mean  comment_len_sum  \n",
       "0               0.0              0.0  \n",
       "\n",
       "[1 rows x 50 columns]"
      ]
     },
     "metadata": {},
     "execution_count": 3
    }
   ],
   "metadata": {}
  },
  {
   "cell_type": "markdown",
   "source": [
    "`issues_orig` is the original features\n",
    "\n",
    "rid is the repository id, maps to repos.rid or repos.repo_id\n",
    "\n",
    "the id here is also repository id, maps to repos.id field"
   ],
   "metadata": {}
  },
  {
   "cell_type": "code",
   "execution_count": 4,
   "source": [
    "issues_orig.head(1).T"
   ],
   "outputs": [
    {
     "output_type": "execute_result",
     "data": {
      "text/html": [
       "<div>\n",
       "<style scoped>\n",
       "    .dataframe tbody tr th:only-of-type {\n",
       "        vertical-align: middle;\n",
       "    }\n",
       "\n",
       "    .dataframe tbody tr th {\n",
       "        vertical-align: top;\n",
       "    }\n",
       "\n",
       "    .dataframe thead th {\n",
       "        text-align: right;\n",
       "    }\n",
       "</style>\n",
       "<table border=\"1\" class=\"dataframe\">\n",
       "  <thead>\n",
       "    <tr style=\"text-align: right;\">\n",
       "      <th></th>\n",
       "      <th>0</th>\n",
       "    </tr>\n",
       "  </thead>\n",
       "  <tbody>\n",
       "    <tr>\n",
       "      <th>Unnamed: 0</th>\n",
       "      <td>0</td>\n",
       "    </tr>\n",
       "    <tr>\n",
       "      <th>issue_id</th>\n",
       "      <td>6837448</td>\n",
       "    </tr>\n",
       "    <tr>\n",
       "      <th>created_at</th>\n",
       "      <td>2014-01-14 17:59:58</td>\n",
       "    </tr>\n",
       "    <tr>\n",
       "      <th>closed_at</th>\n",
       "      <td>NaT</td>\n",
       "    </tr>\n",
       "    <tr>\n",
       "      <th>closed_at_last</th>\n",
       "      <td>NaN</td>\n",
       "    </tr>\n",
       "    <tr>\n",
       "      <th>elapsed</th>\n",
       "      <td>NaN</td>\n",
       "    </tr>\n",
       "    <tr>\n",
       "      <th>elapsed_last</th>\n",
       "      <td>NaN</td>\n",
       "    </tr>\n",
       "    <tr>\n",
       "      <th>actors</th>\n",
       "      <td>1.0</td>\n",
       "    </tr>\n",
       "    <tr>\n",
       "      <th>comments</th>\n",
       "      <td>1.0</td>\n",
       "    </tr>\n",
       "    <tr>\n",
       "      <th>commit_before</th>\n",
       "      <td>1.0</td>\n",
       "    </tr>\n",
       "    <tr>\n",
       "      <th>commit_after</th>\n",
       "      <td>0.0</td>\n",
       "    </tr>\n",
       "    <tr>\n",
       "      <th>id</th>\n",
       "      <td>7450539-conda</td>\n",
       "    </tr>\n",
       "    <tr>\n",
       "      <th>rid</th>\n",
       "      <td>7450539</td>\n",
       "    </tr>\n",
       "    <tr>\n",
       "      <th>created_date</th>\n",
       "      <td>2014-01-14</td>\n",
       "    </tr>\n",
       "    <tr>\n",
       "      <th>closed_date</th>\n",
       "      <td>NaN</td>\n",
       "    </tr>\n",
       "    <tr>\n",
       "      <th>repo_creation</th>\n",
       "      <td>2012-10-01 00:00:00</td>\n",
       "    </tr>\n",
       "    <tr>\n",
       "      <th>real_at</th>\n",
       "      <td>2012-10-15 23:08:03</td>\n",
       "    </tr>\n",
       "    <tr>\n",
       "      <th>relative_time</th>\n",
       "      <td>455</td>\n",
       "    </tr>\n",
       "    <tr>\n",
       "      <th>relative_month</th>\n",
       "      <td>14</td>\n",
       "    </tr>\n",
       "    <tr>\n",
       "      <th>relative_month_close</th>\n",
       "      <td>NaN</td>\n",
       "    </tr>\n",
       "    <tr>\n",
       "      <th>relative_time_close</th>\n",
       "      <td>NaN</td>\n",
       "    </tr>\n",
       "    <tr>\n",
       "      <th>issticky</th>\n",
       "      <td>1</td>\n",
       "    </tr>\n",
       "    <tr>\n",
       "      <th>cnt</th>\n",
       "      <td>1</td>\n",
       "    </tr>\n",
       "    <tr>\n",
       "      <th>life</th>\n",
       "      <td>26</td>\n",
       "    </tr>\n",
       "  </tbody>\n",
       "</table>\n",
       "</div>"
      ],
      "text/plain": [
       "                                        0\n",
       "Unnamed: 0                              0\n",
       "issue_id                          6837448\n",
       "created_at            2014-01-14 17:59:58\n",
       "closed_at                             NaT\n",
       "closed_at_last                        NaN\n",
       "elapsed                               NaN\n",
       "elapsed_last                          NaN\n",
       "actors                                1.0\n",
       "comments                              1.0\n",
       "commit_before                         1.0\n",
       "commit_after                          0.0\n",
       "id                          7450539-conda\n",
       "rid                               7450539\n",
       "created_date                   2014-01-14\n",
       "closed_date                           NaN\n",
       "repo_creation         2012-10-01 00:00:00\n",
       "real_at               2012-10-15 23:08:03\n",
       "relative_time                         455\n",
       "relative_month                         14\n",
       "relative_month_close                  NaN\n",
       "relative_time_close                   NaN\n",
       "issticky                                1\n",
       "cnt                                     1\n",
       "life                                   26"
      ]
     },
     "metadata": {},
     "execution_count": 4
    }
   ],
   "metadata": {}
  },
  {
   "cell_type": "markdown",
   "source": [
    "repository metadata. use repo_id (rid) or id column to link to issues"
   ],
   "metadata": {}
  },
  {
   "cell_type": "code",
   "execution_count": 5,
   "source": [
    "repos.query(\"repo_id == 7450539\")"
   ],
   "outputs": [
    {
     "output_type": "execute_result",
     "data": {
      "text/html": [
       "<div>\n",
       "<style scoped>\n",
       "    .dataframe tbody tr th:only-of-type {\n",
       "        vertical-align: middle;\n",
       "    }\n",
       "\n",
       "    .dataframe tbody tr th {\n",
       "        vertical-align: top;\n",
       "    }\n",
       "\n",
       "    .dataframe thead th {\n",
       "        text-align: right;\n",
       "    }\n",
       "</style>\n",
       "<table border=\"1\" class=\"dataframe\">\n",
       "  <thead>\n",
       "    <tr style=\"text-align: right;\">\n",
       "      <th></th>\n",
       "      <th>Unnamed: 0</th>\n",
       "      <th>repo_id</th>\n",
       "      <th>name</th>\n",
       "      <th>url</th>\n",
       "      <th>created_at</th>\n",
       "      <th>cnt</th>\n",
       "      <th>real_at</th>\n",
       "      <th>repo_creation</th>\n",
       "      <th>rid</th>\n",
       "      <th>life</th>\n",
       "      <th>id</th>\n",
       "    </tr>\n",
       "  </thead>\n",
       "  <tbody>\n",
       "    <tr>\n",
       "      <th>3152</th>\n",
       "      <td>4965</td>\n",
       "      <td>7450539</td>\n",
       "      <td>conda</td>\n",
       "      <td>https://api.github.com/repos/conda/conda</td>\n",
       "      <td>2012-10-15 23:08:03</td>\n",
       "      <td>527</td>\n",
       "      <td>2012-10-15 23:08:03</td>\n",
       "      <td>2012-10-01 00:00:00</td>\n",
       "      <td>7450539</td>\n",
       "      <td>26</td>\n",
       "      <td>7450539-conda</td>\n",
       "    </tr>\n",
       "  </tbody>\n",
       "</table>\n",
       "</div>"
      ],
      "text/plain": [
       "      Unnamed: 0  repo_id   name                                       url  \\\n",
       "3152        4965  7450539  conda  https://api.github.com/repos/conda/conda   \n",
       "\n",
       "               created_at  cnt              real_at        repo_creation  \\\n",
       "3152  2012-10-15 23:08:03  527  2012-10-15 23:08:03  2012-10-01 00:00:00   \n",
       "\n",
       "          rid  life             id  \n",
       "3152  7450539    26  7450539-conda  "
      ]
     },
     "metadata": {},
     "execution_count": 5
    }
   ],
   "metadata": {}
  },
  {
   "cell_type": "code",
   "execution_count": 1,
   "source": [
    "import numpy as np\n",
    "from sklearn.model_selection import KFold\n",
    "X = np.array([[1, 2], [3, 4], [1, 2], [3, 4]])\n",
    "y = np.array([1, 2, 3, 4])\n"
   ],
   "outputs": [],
   "metadata": {}
  },
  {
   "cell_type": "code",
   "execution_count": 3,
   "source": [
    "kf = KFold(n_splits=2)"
   ],
   "outputs": [],
   "metadata": {}
  },
  {
   "cell_type": "code",
   "execution_count": 19,
   "source": [
    "kf"
   ],
   "outputs": [
    {
     "output_type": "execute_result",
     "data": {
      "text/plain": [
       "KFold(n_splits=2, random_state=None, shuffle=False)"
      ]
     },
     "metadata": {},
     "execution_count": 19
    }
   ],
   "metadata": {}
  },
  {
   "cell_type": "code",
   "execution_count": 17,
   "source": [
    "kf.get_n_splits(X)"
   ],
   "outputs": [
    {
     "output_type": "execute_result",
     "data": {
      "text/plain": [
       "2"
      ]
     },
     "metadata": {},
     "execution_count": 17
    }
   ],
   "metadata": {}
  },
  {
   "cell_type": "code",
   "execution_count": 18,
   "source": [
    "print(kf)"
   ],
   "outputs": [
    {
     "output_type": "stream",
     "name": "stdout",
     "text": [
      "KFold(n_splits=2, random_state=None, shuffle=False)\n"
     ]
    }
   ],
   "metadata": {}
  },
  {
   "cell_type": "code",
   "execution_count": 20,
   "source": [
    "\n",
    "print(kf)\n",
    "KFold(n_splits=2, random_state=None, shuffle=False)\n",
    "for train_index, test_index in kf.split(X):\n",
    "    print(\"TRAIN:\", train_index, \"TEST:\", test_index)\n",
    "    X_train, X_test = X[train_index], X[test_index]\n",
    "    y_train, y_test = y[train_index], y[test_index]\n"
   ],
   "outputs": [
    {
     "output_type": "stream",
     "name": "stdout",
     "text": [
      "KFold(n_splits=2, random_state=None, shuffle=False)\n",
      "TRAIN: [2 3] TEST: [0 1]\n",
      "TRAIN: [0 1] TEST: [2 3]\n"
     ]
    }
   ],
   "metadata": {}
  },
  {
   "cell_type": "code",
   "execution_count": null,
   "source": [],
   "outputs": [],
   "metadata": {}
  }
 ],
 "metadata": {
  "kernelspec": {
   "name": "python3",
   "display_name": "Python 3.8.6 64-bit ('posam': conda)"
  },
  "language_info": {
   "name": "python",
   "version": "3.8.6",
   "mimetype": "text/x-python",
   "codemirror_mode": {
    "name": "ipython",
    "version": 3
   },
   "pygments_lexer": "ipython3",
   "nbconvert_exporter": "python",
   "file_extension": ".py"
  },
  "interpreter": {
   "hash": "e76fd4850eedf4480d54b1c191efea6487c84063051549f314573cf0e058b21f"
  }
 },
 "nbformat": 4,
 "nbformat_minor": 2
}